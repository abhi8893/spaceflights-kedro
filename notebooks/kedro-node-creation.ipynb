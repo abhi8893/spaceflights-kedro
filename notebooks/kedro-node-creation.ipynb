{
 "cells": [
  {
   "cell_type": "markdown",
   "id": "1bbef54a",
   "metadata": {},
   "source": [
    "# Kedro Node Creation "
   ]
  },
  {
   "cell_type": "code",
   "execution_count": 1,
   "id": "fc488905",
   "metadata": {
    "tags": [
     "node"
    ]
   },
   "outputs": [],
   "source": [
    "def some_function():\n",
    "    print(\"This function came from notebooks/kedro-node-creation.ipynb\")"
   ]
  }
 ],
 "metadata": {
  "celltoolbar": "Tags",
  "kernelspec": {
   "display_name": "spaceflights",
   "language": "python",
   "name": "python3"
  },
  "language_info": {
   "codemirror_mode": {
    "name": "ipython",
    "version": 3
   },
   "file_extension": ".py",
   "mimetype": "text/x-python",
   "name": "python",
   "nbconvert_exporter": "python",
   "pygments_lexer": "ipython3",
   "version": "3.8.12"
  }
 },
 "nbformat": 4,
 "nbformat_minor": 5
}
