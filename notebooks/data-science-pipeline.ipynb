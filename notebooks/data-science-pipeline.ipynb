{
 "cells": [
  {
   "cell_type": "markdown",
   "id": "e563bfc4",
   "metadata": {},
   "source": [
    "# Data Science Pipeline"
   ]
  },
  {
   "cell_type": "code",
   "execution_count": 1,
   "id": "33651305",
   "metadata": {},
   "outputs": [],
   "source": [
    "from kedro.pipeline import Pipeline, node\n",
    "from spaceflights.pipelines.data_science.nodes import split_data, train_model, evaluate_model\n",
    "\n",
    "def create_pipeline(**kwargs):\n",
    "    return Pipeline(\n",
    "        [\n",
    "            node(\n",
    "                func=split_data,\n",
    "                inputs=['master_table', 'parameters'],\n",
    "                outputs=['X_train', 'X_test', 'y_train', 'y_test'],\n",
    "                name='split_data_node'\n",
    "            ),\n",
    "            node(\n",
    "                func=train_model,\n",
    "                inputs=['X_train', 'y_train'],\n",
    "                outputs='regressor',\n",
    "                name='train_model_node'\n",
    "            ),\n",
    "            node(\n",
    "                func=evaluate_model,\n",
    "                inputs=['regressor', 'X_test', 'y_test'],\n",
    "                outputs=None,\n",
    "                name='evaluate_model_node'\n",
    "            )\n",
    "        ]\n",
    "    )\n",
    "\n"
   ]
  },
  {
   "cell_type": "code",
   "execution_count": 2,
   "id": "f9d89078",
   "metadata": {},
   "outputs": [],
   "source": [
    "pipeline = create_pipeline()"
   ]
  },
  {
   "cell_type": "code",
   "execution_count": 3,
   "id": "4eac8d8f",
   "metadata": {},
   "outputs": [],
   "source": [
    "from kedro.runner import SequentialRunner\n",
    "runner = SequentialRunner()"
   ]
  },
  {
   "cell_type": "code",
   "execution_count": 4,
   "id": "11f79f7d",
   "metadata": {},
   "outputs": [
    {
     "name": "stdout",
     "output_type": "stream",
     "text": [
      "2021-11-11 22:57:58,317 - kedro.io.data_catalog - INFO - Loading data from `master_table` (CSVDataSet)...\n",
      "2021-11-11 22:57:58,391 - kedro.io.data_catalog - INFO - Loading data from `parameters` (MemoryDataSet)...\n",
      "2021-11-11 22:57:58,391 - kedro.pipeline.node - INFO - Running node: split_data_node: split_data([master_table,parameters]) -> [X_test,X_train,y_test,y_train]\n",
      "2021-11-11 22:57:58,397 - kedro.io.data_catalog - INFO - Saving data to `X_train` (MemoryDataSet)...\n",
      "2021-11-11 22:57:58,398 - kedro.io.data_catalog - INFO - Saving data to `X_test` (MemoryDataSet)...\n",
      "2021-11-11 22:57:58,399 - kedro.io.data_catalog - INFO - Saving data to `y_train` (MemoryDataSet)...\n",
      "2021-11-11 22:57:58,400 - kedro.io.data_catalog - INFO - Saving data to `y_test` (MemoryDataSet)...\n",
      "2021-11-11 22:57:58,401 - kedro.runner.sequential_runner - INFO - Completed 1 out of 3 tasks\n",
      "2021-11-11 22:57:58,402 - kedro.io.data_catalog - INFO - Loading data from `X_train` (MemoryDataSet)...\n",
      "2021-11-11 22:57:58,403 - kedro.io.data_catalog - INFO - Loading data from `y_train` (MemoryDataSet)...\n",
      "2021-11-11 22:57:58,404 - kedro.pipeline.node - INFO - Running node: train_model_node: train_model([X_train,y_train]) -> [regressor]\n",
      "2021-11-11 22:57:58,426 - kedro.io.data_catalog - INFO - Saving data to `regressor` (MemoryDataSet)...\n",
      "2021-11-11 22:57:58,427 - kedro.runner.sequential_runner - INFO - Completed 2 out of 3 tasks\n",
      "2021-11-11 22:57:58,428 - kedro.io.data_catalog - INFO - Loading data from `regressor` (MemoryDataSet)...\n",
      "2021-11-11 22:57:58,428 - kedro.io.data_catalog - INFO - Loading data from `X_test` (MemoryDataSet)...\n",
      "2021-11-11 22:57:58,429 - kedro.io.data_catalog - INFO - Loading data from `y_test` (MemoryDataSet)...\n",
      "2021-11-11 22:57:58,430 - kedro.pipeline.node - INFO - Running node: evaluate_model_node: evaluate_model([X_test,regressor,y_test]) -> None\n",
      "2021-11-11 22:57:58,451 - spaceflights.pipelines.data_science.nodes - INFO - Model has a coefficient R^2 of 0.194 on test_data\n",
      "2021-11-11 22:57:58,506 - kedro.runner.sequential_runner - INFO - Completed 3 out of 3 tasks\n",
      "2021-11-11 22:57:58,523 - kedro.runner.sequential_runner - INFO - Pipeline execution completed successfully.\n"
     ]
    },
    {
     "data": {
      "text/plain": [
       "{}"
      ]
     },
     "execution_count": 4,
     "metadata": {},
     "output_type": "execute_result"
    }
   ],
   "source": [
    "runner.run(pipeline, catalog)"
   ]
  }
 ],
 "metadata": {
  "kernelspec": {
   "display_name": "spaceflights",
   "language": "python",
   "name": "python3"
  },
  "language_info": {
   "codemirror_mode": {
    "name": "ipython",
    "version": 3
   },
   "file_extension": ".py",
   "mimetype": "text/x-python",
   "name": "python",
   "nbconvert_exporter": "python",
   "pygments_lexer": "ipython3",
   "version": "3.8.12"
  }
 },
 "nbformat": 4,
 "nbformat_minor": 5
}
