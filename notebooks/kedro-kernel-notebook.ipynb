{
 "cells": [
  {
   "cell_type": "markdown",
   "id": "4d3bb6c0",
   "metadata": {},
   "source": [
    "# Test Notebook with `kedro` kernel\n",
    "\n",
    "\n",
    "Every time you start or restart a Jupyter or IPython session in the CLI using a `kedro` command, a startup script in `.ipython/profile_default/startup/00-kedro-init.py` is executed. It adds the following variables in scope:\n",
    "\n",
    "* `catalog` (`DataCatalog`) - Data catalog instance that contains all defined datasets; this is a shortcut for `context.catalog`, but it's only created at startup time, whereas `context.catalog` is rebuilt everytime.\n",
    "* `context` (`KedroContext`) - Kedro project context that provides access to Kedro's library components.\n",
    "* `session` (`KedroSession`) - Kedro session that orchestrates the run\n",
    "* `startup_error` (`Exception`) - An error that was raised during the execution of the startup script or `None` if no errors occurred\n",
    "\n",
    "## [<svg class=\"octicon octicon-link\" viewBox=\"0 0 16 16\" version=\"1.1\" width=\"16\" height=\"16\" aria-hidden=\"true\"><path fill-rule=\"evenodd\" d=\"M7.775 3.275a.75.75 0 001.06 1.06l1.25-1.25a2 2 0 112.83 2.83l-2.5 2.5a2 2 0 01-2.83 0 .75.75 0 00-1.06 1.06 3.5 3.5 0 004.95 0l2.5-2.5a3.5 3.5 0 00-4.95-4.95l-1.25 1.25zm-4.69 9.64a2 2 0 010-2.83l2.5-2.5a2 2 0 012.83 0 .75.75 0 001.06-1.06 3.5 3.5 0 00-4.95 0l-2.5 2.5a3.5 3.5 0 004.95 4.95l1.25-1.25a.75.75 0 00-1.06-1.06l-1.25 1.25a2 2 0 01-2.83 0z\"></path></svg>](https://github.com/quantumblacklabs/kedro-training/blob/master/training_docs/06_jupyter_notebook_workflow.md#how-to-use-context)"
   ]
  },
  {
   "cell_type": "markdown",
   "id": "2dfcf400",
   "metadata": {},
   "source": [
    "## Variables in scope"
   ]
  },
  {
   "cell_type": "code",
   "execution_count": 17,
   "id": "afdb3f81",
   "metadata": {},
   "outputs": [
    {
     "data": {
      "text/plain": [
       "<kedro.io.data_catalog.DataCatalog at 0x1284949a0>"
      ]
     },
     "execution_count": 17,
     "metadata": {},
     "output_type": "execute_result"
    }
   ],
   "source": [
    "catalog"
   ]
  },
  {
   "cell_type": "code",
   "execution_count": 4,
   "id": "1e44b9e9",
   "metadata": {},
   "outputs": [
    {
     "data": {
      "text/plain": [
       "<kedro.framework.context.context.KedroContext at 0x10892b400>"
      ]
     },
     "execution_count": 4,
     "metadata": {},
     "output_type": "execute_result"
    }
   ],
   "source": [
    "context"
   ]
  },
  {
   "cell_type": "code",
   "execution_count": 5,
   "id": "7ce7ffb9",
   "metadata": {},
   "outputs": [
    {
     "data": {
      "text/plain": [
       "<kedro.framework.session.session.KedroSession at 0x10865f5b0>"
      ]
     },
     "execution_count": 5,
     "metadata": {},
     "output_type": "execute_result"
    }
   ],
   "source": [
    "session"
   ]
  },
  {
   "cell_type": "markdown",
   "id": "58176fdd",
   "metadata": {},
   "source": [
    "## `context`"
   ]
  },
  {
   "cell_type": "code",
   "execution_count": 7,
   "id": "2c4123e2",
   "metadata": {},
   "outputs": [
    {
     "data": {
      "text/plain": [
       "PosixPath('/Volumes/GoogleDrive/My Drive/projects/kedro-training/spaceflights')"
      ]
     },
     "execution_count": 7,
     "metadata": {},
     "output_type": "execute_result"
    }
   ],
   "source": [
    "context.project_path"
   ]
  },
  {
   "cell_type": "code",
   "execution_count": 8,
   "id": "86ebe98c",
   "metadata": {},
   "outputs": [
    {
     "ename": "AttributeError",
     "evalue": "'KedroContext' object has no attribute 'project_name'",
     "output_type": "error",
     "traceback": [
      "\u001b[0;31m---------------------------------------------------------------------------\u001b[0m",
      "\u001b[0;31mAttributeError\u001b[0m                            Traceback (most recent call last)",
      "\u001b[0;32m/var/folders/ps/m62g53713k7_knw76b1s566r0000gn/T/ipykernel_55726/2989079244.py\u001b[0m in \u001b[0;36m<module>\u001b[0;34m\u001b[0m\n\u001b[0;32m----> 1\u001b[0;31m \u001b[0mcontext\u001b[0m\u001b[0;34m.\u001b[0m\u001b[0mproject_name\u001b[0m\u001b[0;34m\u001b[0m\u001b[0;34m\u001b[0m\u001b[0m\n\u001b[0m",
      "\u001b[0;31mAttributeError\u001b[0m: 'KedroContext' object has no attribute 'project_name'"
     ]
    }
   ],
   "source": [
    "context.project_name"
   ]
  },
  {
   "cell_type": "code",
   "execution_count": 9,
   "id": "e00a1add",
   "metadata": {},
   "outputs": [
    {
     "name": "stderr",
     "output_type": "stream",
     "text": [
      "/Volumes/GoogleDrive/My Drive/projects/kedro-training/venv/lib/python3.8/site-packages/kedro/framework/context/context.py:59: DeprecationWarning: Accessing package_name via the context will be deprecated in Kedro 0.18.0.\n",
      "  warn(\n"
     ]
    },
    {
     "data": {
      "text/plain": [
       "'spaceflights'"
      ]
     },
     "execution_count": 9,
     "metadata": {},
     "output_type": "execute_result"
    }
   ],
   "source": [
    "context.package_name"
   ]
  },
  {
   "cell_type": "code",
   "execution_count": 10,
   "id": "5635fe40",
   "metadata": {},
   "outputs": [
    {
     "data": {
      "text/plain": [
       "<kedro.config.config.ConfigLoader at 0x12fd68760>"
      ]
     },
     "execution_count": 10,
     "metadata": {},
     "output_type": "execute_result"
    }
   ],
   "source": [
    "context.config_loader"
   ]
  },
  {
   "cell_type": "code",
   "execution_count": 11,
   "id": "a0edf435",
   "metadata": {},
   "outputs": [
    {
     "name": "stderr",
     "output_type": "stream",
     "text": [
      "/Volumes/GoogleDrive/My Drive/projects/kedro-training/venv/lib/python3.8/site-packages/kedro/framework/context/context.py:59: DeprecationWarning: Accessing pipeline via the context will be deprecated in Kedro 0.18.0.\n",
      "  warn(\n"
     ]
    },
    {
     "data": {
      "text/plain": [
       "Pipeline([])"
      ]
     },
     "execution_count": 11,
     "metadata": {},
     "output_type": "execute_result"
    }
   ],
   "source": [
    "context.pipeline"
   ]
  },
  {
   "cell_type": "markdown",
   "id": "2927225e",
   "metadata": {},
   "source": [
    "## Run the pipeline"
   ]
  },
  {
   "cell_type": "code",
   "execution_count": 12,
   "id": "ad949e12",
   "metadata": {},
   "outputs": [
    {
     "name": "stdout",
     "output_type": "stream",
     "text": [
      "2021-11-10 22:49:25,832 - root - INFO - ** Kedro project spaceflights\n"
     ]
    },
    {
     "ename": "KedroContextError",
     "evalue": "Pipeline contains no nodes",
     "output_type": "error",
     "traceback": [
      "\u001b[0;31m---------------------------------------------------------------------------\u001b[0m",
      "\u001b[0;31mKedroContextError\u001b[0m                         Traceback (most recent call last)",
      "\u001b[0;32m/var/folders/ps/m62g53713k7_knw76b1s566r0000gn/T/ipykernel_55726/833844929.py\u001b[0m in \u001b[0;36m<module>\u001b[0;34m\u001b[0m\n\u001b[0;32m----> 1\u001b[0;31m \u001b[0msession\u001b[0m\u001b[0;34m.\u001b[0m\u001b[0mrun\u001b[0m\u001b[0;34m(\u001b[0m\u001b[0;34m)\u001b[0m\u001b[0;34m\u001b[0m\u001b[0;34m\u001b[0m\u001b[0m\n\u001b[0m",
      "\u001b[0;32m/Volumes/GoogleDrive/My Drive/projects/kedro-training/venv/lib/python3.8/site-packages/kedro/framework/session/session.py\u001b[0m in \u001b[0;36mrun\u001b[0;34m(self, pipeline_name, tags, runner, node_names, from_nodes, to_nodes, from_inputs, to_outputs, load_versions)\u001b[0m\n\u001b[1;32m    374\u001b[0m             ) from exc\n\u001b[1;32m    375\u001b[0m \u001b[0;34m\u001b[0m\u001b[0m\n\u001b[0;32m--> 376\u001b[0;31m         filtered_pipeline = context._filter_pipeline(\n\u001b[0m\u001b[1;32m    377\u001b[0m             \u001b[0mpipeline\u001b[0m\u001b[0;34m=\u001b[0m\u001b[0mpipeline\u001b[0m\u001b[0;34m,\u001b[0m\u001b[0;34m\u001b[0m\u001b[0;34m\u001b[0m\u001b[0m\n\u001b[1;32m    378\u001b[0m             \u001b[0mtags\u001b[0m\u001b[0;34m=\u001b[0m\u001b[0mtags\u001b[0m\u001b[0;34m,\u001b[0m\u001b[0;34m\u001b[0m\u001b[0;34m\u001b[0m\u001b[0m\n",
      "\u001b[0;32m/Volumes/GoogleDrive/My Drive/projects/kedro-training/venv/lib/python3.8/site-packages/kedro/framework/context/context.py\u001b[0m in \u001b[0;36m_filter_pipeline\u001b[0;34m(self, pipeline, tags, from_nodes, to_nodes, node_names, from_inputs, to_outputs)\u001b[0m\n\u001b[1;32m    535\u001b[0m \u001b[0;34m\u001b[0m\u001b[0m\n\u001b[1;32m    536\u001b[0m         \u001b[0;32mif\u001b[0m \u001b[0;32mnot\u001b[0m \u001b[0mnew_pipeline\u001b[0m\u001b[0;34m.\u001b[0m\u001b[0mnodes\u001b[0m\u001b[0;34m:\u001b[0m\u001b[0;34m\u001b[0m\u001b[0;34m\u001b[0m\u001b[0m\n\u001b[0;32m--> 537\u001b[0;31m             \u001b[0;32mraise\u001b[0m \u001b[0mKedroContextError\u001b[0m\u001b[0;34m(\u001b[0m\u001b[0;34m\"Pipeline contains no nodes\"\u001b[0m\u001b[0;34m)\u001b[0m\u001b[0;34m\u001b[0m\u001b[0;34m\u001b[0m\u001b[0m\n\u001b[0m\u001b[1;32m    538\u001b[0m         \u001b[0;32mreturn\u001b[0m \u001b[0mnew_pipeline\u001b[0m\u001b[0;34m\u001b[0m\u001b[0;34m\u001b[0m\u001b[0m\n\u001b[1;32m    539\u001b[0m \u001b[0;34m\u001b[0m\u001b[0m\n",
      "\u001b[0;31mKedroContextError\u001b[0m: Pipeline contains no nodes"
     ]
    }
   ],
   "source": [
    "session.run()"
   ]
  },
  {
   "cell_type": "markdown",
   "id": "72534171",
   "metadata": {},
   "source": [
    "## Parameters"
   ]
  },
  {
   "cell_type": "code",
   "execution_count": 16,
   "id": "01c08d60",
   "metadata": {},
   "outputs": [
    {
     "data": {
      "text/plain": [
       "{'test_data_ratio': 0.3}"
      ]
     },
     "execution_count": 16,
     "metadata": {},
     "output_type": "execute_result"
    }
   ],
   "source": [
    "parameters = context.params\n",
    "parameters"
   ]
  },
  {
   "cell_type": "markdown",
   "id": "ade18967",
   "metadata": {},
   "source": [
    "## `DataCatalog`"
   ]
  },
  {
   "cell_type": "code",
   "execution_count": 23,
   "id": "766ad153",
   "metadata": {},
   "outputs": [
    {
     "data": {
      "text/plain": [
       "['companies',\n",
       " 'reviews',\n",
       " 'shuttles',\n",
       " 'my_dataset',\n",
       " 'parameters',\n",
       " 'params:test_data_ratio']"
      ]
     },
     "execution_count": 23,
     "metadata": {},
     "output_type": "execute_result"
    }
   ],
   "source": [
    "catalog.list()"
   ]
  },
  {
   "cell_type": "code",
   "execution_count": 19,
   "id": "299a9f14",
   "metadata": {},
   "outputs": [
    {
     "name": "stdout",
     "output_type": "stream",
     "text": [
      "2021-11-10 22:56:47,204 - kedro.io.data_catalog - INFO - Loading data from `companies` (CSVDataSet)...\n"
     ]
    },
    {
     "data": {
      "text/html": [
       "<div>\n",
       "<style scoped>\n",
       "    .dataframe tbody tr th:only-of-type {\n",
       "        vertical-align: middle;\n",
       "    }\n",
       "\n",
       "    .dataframe tbody tr th {\n",
       "        vertical-align: top;\n",
       "    }\n",
       "\n",
       "    .dataframe thead th {\n",
       "        text-align: right;\n",
       "    }\n",
       "</style>\n",
       "<table border=\"1\" class=\"dataframe\">\n",
       "  <thead>\n",
       "    <tr style=\"text-align: right;\">\n",
       "      <th></th>\n",
       "      <th>id</th>\n",
       "      <th>company_rating</th>\n",
       "      <th>company_location</th>\n",
       "      <th>total_fleet_count</th>\n",
       "      <th>iata_approved</th>\n",
       "    </tr>\n",
       "  </thead>\n",
       "  <tbody>\n",
       "    <tr>\n",
       "      <th>0</th>\n",
       "      <td>35029</td>\n",
       "      <td>100%</td>\n",
       "      <td>Niue</td>\n",
       "      <td>4.0</td>\n",
       "      <td>f</td>\n",
       "    </tr>\n",
       "    <tr>\n",
       "      <th>1</th>\n",
       "      <td>30292</td>\n",
       "      <td>67%</td>\n",
       "      <td>Anguilla</td>\n",
       "      <td>6.0</td>\n",
       "      <td>f</td>\n",
       "    </tr>\n",
       "    <tr>\n",
       "      <th>2</th>\n",
       "      <td>19032</td>\n",
       "      <td>67%</td>\n",
       "      <td>Russian Federation</td>\n",
       "      <td>4.0</td>\n",
       "      <td>f</td>\n",
       "    </tr>\n",
       "    <tr>\n",
       "      <th>3</th>\n",
       "      <td>8238</td>\n",
       "      <td>91%</td>\n",
       "      <td>Barbados</td>\n",
       "      <td>15.0</td>\n",
       "      <td>t</td>\n",
       "    </tr>\n",
       "    <tr>\n",
       "      <th>4</th>\n",
       "      <td>30342</td>\n",
       "      <td>NaN</td>\n",
       "      <td>Sao Tome and Principe</td>\n",
       "      <td>2.0</td>\n",
       "      <td>t</td>\n",
       "    </tr>\n",
       "  </tbody>\n",
       "</table>\n",
       "</div>"
      ],
      "text/plain": [
       "      id company_rating       company_location  total_fleet_count  \\\n",
       "0  35029           100%                   Niue                4.0   \n",
       "1  30292            67%               Anguilla                6.0   \n",
       "2  19032            67%     Russian Federation                4.0   \n",
       "3   8238            91%               Barbados               15.0   \n",
       "4  30342            NaN  Sao Tome and Principe                2.0   \n",
       "\n",
       "  iata_approved  \n",
       "0             f  \n",
       "1             f  \n",
       "2             f  \n",
       "3             t  \n",
       "4             t  "
      ]
     },
     "execution_count": 19,
     "metadata": {},
     "output_type": "execute_result"
    }
   ],
   "source": [
    "df = catalog.load('companies')\n",
    "df.head()"
   ]
  },
  {
   "cell_type": "code",
   "execution_count": 48,
   "id": "86efcb06",
   "metadata": {},
   "outputs": [],
   "source": [
    "from kedro.extras.datasets.json import JSONDataSet\n",
    "fpath = str(context.project_path.joinpath('data/01_raw/my_dataset.json'))\n",
    "data = {'name': 'Abhishek', 'age': 28}\n",
    "data_set = JSONDataSet(filepath=fpath)\n",
    "data_set.save(data)"
   ]
  },
  {
   "cell_type": "code",
   "execution_count": 49,
   "id": "d3c695ce",
   "metadata": {},
   "outputs": [
    {
     "name": "stdout",
     "output_type": "stream",
     "text": [
      "2021-11-10 23:31:29,125 - kedro.framework.session.store - INFO - `read()` not implemented for `BaseSessionStore`. Assuming empty store.\n",
      "2021-11-10 23:31:29,306 - root - INFO - ** Kedro project spaceflights\n",
      "2021-11-10 23:31:29,308 - root - INFO - Defined global variable `context`, `session` and `catalog`\n"
     ]
    }
   ],
   "source": [
    "%reload_kedro"
   ]
  },
  {
   "cell_type": "code",
   "execution_count": 50,
   "id": "956cae89",
   "metadata": {},
   "outputs": [
    {
     "name": "stdout",
     "output_type": "stream",
     "text": [
      "2021-11-10 23:31:29,831 - kedro.io.data_catalog - INFO - Saving data to `my_dataset` (JSONDataSet)...\n"
     ]
    }
   ],
   "source": [
    "my_dict = {\"key1\": \"some_value\", \"key2\": None}\n",
    "catalog.save(\"my_dataset\", my_dict)"
   ]
  },
  {
   "cell_type": "code",
   "execution_count": 51,
   "id": "254548dc",
   "metadata": {},
   "outputs": [],
   "source": [
    "import spaceflights"
   ]
  }
 ],
 "metadata": {
  "kernelspec": {
   "display_name": "spaceflights",
   "language": "python",
   "name": "python3"
  },
  "language_info": {
   "codemirror_mode": {
    "name": "ipython",
    "version": 3
   },
   "file_extension": ".py",
   "mimetype": "text/x-python",
   "name": "python",
   "nbconvert_exporter": "python",
   "pygments_lexer": "ipython3",
   "version": "3.8.12"
  }
 },
 "nbformat": 4,
 "nbformat_minor": 5
}
