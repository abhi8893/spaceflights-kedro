{
 "cells": [
  {
   "cell_type": "markdown",
   "id": "23186a98",
   "metadata": {},
   "source": [
    "# Data Processing Pipeline"
   ]
  },
  {
   "cell_type": "code",
   "execution_count": 1,
   "id": "3ad6a012",
   "metadata": {},
   "outputs": [],
   "source": [
    "from kedro.pipeline import Pipeline, node\n",
    "from spaceflights.pipelines.data_processing.nodes import CompanyPreprocessor, ShuttlesPreprocessor, create_master_table"
   ]
  },
  {
   "cell_type": "code",
   "execution_count": 2,
   "id": "3e4b6a84",
   "metadata": {},
   "outputs": [],
   "source": [
    "\n",
    "def create_pipeline(**kwargs):\n",
    "    preprocess_companies = CompanyPreprocessor()\n",
    "    preprocess_shuttles = ShuttlesPreprocessor()\n",
    "    \n",
    "    return Pipeline(\n",
    "    [\n",
    "        node(\n",
    "            func=preprocess_companies,\n",
    "            inputs='companies',\n",
    "            outputs='preprocessed_companies',\n",
    "            name='preprocess_companies_node'\n",
    "        ),\n",
    "        node(\n",
    "            func=preprocess_shuttles,\n",
    "            inputs='shuttles',\n",
    "            outputs='preprocessed_shuttles',\n",
    "            name='preprocess_shuttles_node'\n",
    "        ),\n",
    "        node(\n",
    "            func=create_master_table,\n",
    "            inputs=['preprocessed_shuttles', 'preprocessed_companies', 'reviews'],\n",
    "            outputs='master_table',\n",
    "            name='create_master_table_node'\n",
    "        )\n",
    "    ])"
   ]
  },
  {
   "cell_type": "code",
   "execution_count": 3,
   "id": "e2c86343",
   "metadata": {},
   "outputs": [],
   "source": [
    "pipeline = create_pipeline()"
   ]
  },
  {
   "cell_type": "code",
   "execution_count": 4,
   "id": "96b32260",
   "metadata": {},
   "outputs": [
    {
     "data": {
      "text/plain": [
       "Pipeline([\n",
       "Node(<spaceflights.pipelines.data_processing.nodes.ShuttlesPreprocessor object at 0x11f57fb50>, 'shuttles', 'preprocessed_shuttles', 'preprocess_shuttles_node'),\n",
       "Node(<spaceflights.pipelines.data_processing.nodes.CompanyPreprocessor object at 0x11f57f520>, 'companies', 'preprocessed_companies', 'preprocess_companies_node'),\n",
       "Node(create_master_table, ['preprocessed_shuttles', 'preprocessed_companies', 'reviews'], 'master_table', 'create_master_table_node')\n",
       "])"
      ]
     },
     "execution_count": 4,
     "metadata": {},
     "output_type": "execute_result"
    }
   ],
   "source": [
    "pipeline"
   ]
  },
  {
   "cell_type": "code",
   "execution_count": 5,
   "id": "a9e4cfce",
   "metadata": {},
   "outputs": [],
   "source": [
    "from kedro.runner import SequentialRunner"
   ]
  },
  {
   "cell_type": "code",
   "execution_count": 6,
   "id": "2a9803d2",
   "metadata": {},
   "outputs": [
    {
     "name": "stdout",
     "output_type": "stream",
     "text": [
      "2021-11-11 19:08:21,912 - kedro.io.data_catalog - INFO - Loading data from `shuttles` (ExcelDataSet)...\n",
      "2021-11-11 19:08:30,727 - kedro.pipeline.node - INFO - Running node: preprocess_shuttles_node: <spaceflights.pipelines.data_processing.nodes.ShuttlesPreprocessor object at 0x11f57fb50>([shuttles]) -> [preprocessed_shuttles]\n",
      "2021-11-11 19:08:30,812 - kedro.io.data_catalog - INFO - Saving data to `preprocessed_shuttles` (CSVDataSet)...\n",
      "2021-11-11 19:08:31,079 - kedro.runner.sequential_runner - INFO - Completed 1 out of 3 tasks\n",
      "2021-11-11 19:08:31,079 - kedro.io.data_catalog - INFO - Loading data from `companies` (CSVDataSet)...\n",
      "2021-11-11 19:08:31,108 - kedro.pipeline.node - INFO - Running node: preprocess_companies_node: <spaceflights.pipelines.data_processing.nodes.CompanyPreprocessor object at 0x11f57f520>([companies]) -> [preprocessed_companies]\n",
      "2021-11-11 19:08:31,135 - kedro.io.data_catalog - INFO - Saving data to `preprocessed_companies` (CSVDataSet)...\n",
      "2021-11-11 19:08:31,222 - kedro.runner.sequential_runner - INFO - Completed 2 out of 3 tasks\n",
      "2021-11-11 19:08:31,222 - kedro.io.data_catalog - INFO - Loading data from `preprocessed_shuttles` (CSVDataSet)...\n",
      "2021-11-11 19:08:31,274 - kedro.io.data_catalog - INFO - Loading data from `preprocessed_companies` (CSVDataSet)...\n",
      "2021-11-11 19:08:31,292 - kedro.io.data_catalog - INFO - Loading data from `reviews` (CSVDataSet)...\n",
      "2021-11-11 19:08:31,342 - kedro.pipeline.node - INFO - Running node: create_master_table_node: create_master_table([preprocessed_companies,preprocessed_shuttles,reviews]) -> [master_table]\n",
      "2021-11-11 19:08:31,403 - kedro.io.data_catalog - INFO - Saving data to `master_table` (CSVDataSet)...\n",
      "2021-11-11 19:08:31,621 - kedro.runner.sequential_runner - INFO - Completed 3 out of 3 tasks\n",
      "2021-11-11 19:08:31,621 - kedro.runner.sequential_runner - INFO - Pipeline execution completed successfully.\n"
     ]
    },
    {
     "data": {
      "text/plain": [
       "{}"
      ]
     },
     "execution_count": 6,
     "metadata": {},
     "output_type": "execute_result"
    }
   ],
   "source": [
    "runner = SequentialRunner()\n",
    "runner.run(pipeline, catalog)"
   ]
  }
 ],
 "metadata": {
  "kernelspec": {
   "display_name": "spaceflights",
   "language": "python",
   "name": "python3"
  },
  "language_info": {
   "codemirror_mode": {
    "name": "ipython",
    "version": 3
   },
   "file_extension": ".py",
   "mimetype": "text/x-python",
   "name": "python",
   "nbconvert_exporter": "python",
   "pygments_lexer": "ipython3",
   "version": "3.8.12"
  }
 },
 "nbformat": 4,
 "nbformat_minor": 5
}
